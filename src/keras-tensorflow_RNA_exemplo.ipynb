{
 "cells": [
  {
   "cell_type": "code",
   "execution_count": 2,
   "id": "bc467249",
   "metadata": {},
   "outputs": [],
   "source": [
    "from numpy import loadtxt\n",
    "from keras.models import Sequential\n",
    "from keras.layers import Dense"
   ]
  },
  {
   "cell_type": "code",
   "execution_count": 8,
   "id": "3fd64e37",
   "metadata": {},
   "outputs": [],
   "source": [
    "# Load the Dataset\n",
    "dataset = loadtxt('../data/pima-indians-diabetes.data.csv', delimiter=',')"
   ]
  },
  {
   "cell_type": "code",
   "execution_count": 9,
   "id": "012537c7",
   "metadata": {},
   "outputs": [],
   "source": [
    "# Split dataset into (x,y) variables\n",
    "X = dataset[:,0:8]\n",
    "y = dataset[:,8]"
   ]
  },
  {
   "cell_type": "code",
   "execution_count": 10,
   "id": "9a2f801c",
   "metadata": {},
   "outputs": [],
   "source": [
    "# Keras Model Definition\n",
    "model = Sequential()\n",
    "model.add(Dense(12, input_dim=8, activation='relu'))\n",
    "model.add(Dense(8, activation='relu'))\n",
    "model.add(Dense(1, activation='sigmoid'))"
   ]
  },
  {
   "cell_type": "code",
   "execution_count": 11,
   "id": "3f647d44",
   "metadata": {},
   "outputs": [],
   "source": [
    "# Model Compilation\n",
    "model.compile(loss='binary_crossentropy', optimizer='adam', metrics=['accuracy'])"
   ]
  },
  {
   "cell_type": "code",
   "execution_count": 16,
   "id": "34ac8e82",
   "metadata": {},
   "outputs": [],
   "source": [
    "# Fit model on the dataset\n",
    "model.fit(X, y, epochs=150, batch_size=10,verbose=0)"
   ]
  },
  {
   "cell_type": "code",
   "execution_count": 15,
   "id": "173b48c7",
   "metadata": {},
   "outputs": [
    {
     "name": "stdout",
     "output_type": "stream",
     "text": [
      "24/24 [==============================] - 0s 1ms/step - loss: 0.4620 - accuracy: 0.7799\n",
      "Accuracy: 77.99%\n"
     ]
    }
   ],
   "source": [
    "# Model Evaluation\n",
    "_, accuracy = model.evaluate(X, y,verbose=1)\n",
    "print('Accuracy: %.2f%%' % (accuracy*100))"
   ]
  }
 ],
 "metadata": {
  "kernelspec": {
   "display_name": "Python 3 (ipykernel)",
   "language": "python",
   "name": "python3"
  },
  "language_info": {
   "codemirror_mode": {
    "name": "ipython",
    "version": 3
   },
   "file_extension": ".py",
   "mimetype": "text/x-python",
   "name": "python",
   "nbconvert_exporter": "python",
   "pygments_lexer": "ipython3",
   "version": "3.10.2"
  }
 },
 "nbformat": 4,
 "nbformat_minor": 5
}
